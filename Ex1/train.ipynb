{
 "cells": [
  {
   "cell_type": "code",
   "execution_count": null,
   "id": "a9449725-4af6-45b7-a02c-9fe524c4c1df",
   "metadata": {},
   "outputs": [],
   "source": [
    "#文件说明：用于train baseline\n",
    "\n",
    "import torch\n",
    "print(\"CUDA available:\", torch.cuda.is_available())\n",
    "print(\"CUDA version:\", torch.version.cuda)"
   ]
  },
  {
   "cell_type": "code",
   "execution_count": null,
   "id": "952675c8-12f9-4dc1-827d-9d1900382739",
   "metadata": {},
   "outputs": [],
   "source": [
    "# 查看可用模型\n",
    "#from mmpretrain import list_models\n",
    "#list_models()"
   ]
  },
  {
   "cell_type": "code",
   "execution_count": null,
   "id": "6591b563-cea8-4af1-85a1-b901e60b9968",
   "metadata": {},
   "outputs": [],
   "source": [
    "# 测试一下是否成功\n",
    "#!python mmpretrain/demo/image_demo.py mmpretrain/demo/demo.JPEG resnet18_8xb32_in1k"
   ]
  },
  {
   "cell_type": "code",
   "execution_count": null,
   "id": "caee535f-0378-4f0b-a9e8-8d77f91a80d1",
   "metadata": {},
   "outputs": [],
   "source": [
    "!python mmpretrain/tools/train.py configs/resnet50_custom_0.py\n",
    "print(\"Finished!\")"
   ]
  }
 ],
 "metadata": {
  "kernelspec": {
   "display_name": "Python 3 (ipykernel)",
   "language": "python",
   "name": "python3"
  },
  "language_info": {
   "codemirror_mode": {
    "name": "ipython",
    "version": 3
   },
   "file_extension": ".py",
   "mimetype": "text/x-python",
   "name": "python",
   "nbconvert_exporter": "python",
   "pygments_lexer": "ipython3",
   "version": "3.8.10"
  }
 },
 "nbformat": 4,
 "nbformat_minor": 5
}
