{
 "cells": [
  {
   "cell_type": "code",
   "execution_count": null,
   "id": "e44787f6",
   "metadata": {},
   "outputs": [
    {
     "name": "stdout",
     "output_type": "stream",
     "text": [
      "plot curve of H:\\BaiduSyncdisk\\Homework\\DeepLearning\\Assignment1\\Ex1\\configs\\20250514_174651.json, metric is loss\n",
      "save curve to: baseline.jpg\n",
      "plot curve of H:\\BaiduSyncdisk\\Homework\\DeepLearning\\Assignment1\\Ex1\\configs\\20250514_174651.json, metric is accuracy/top1\n",
      "save curve to: baseline_acc.jpg\n"
     ]
    }
   ],
   "source": [
    "# 文件说明：用于调用mmpretrain的画图脚本。\n",
    "!python \"H:\\BaiduSyncdisk\\Homework\\DeepLearning\\Assignment1\\mmpretrain/tools/analysis_tools/analyze_logs.py\" plot_curve \"H:\\BaiduSyncdisk\\Homework\\DeepLearning\\Assignment1\\Ex1\\configs\\20250514_174651.json\" --keys loss  --legend loss --out baseline.jpg --title \"Baseline Training Curve\"\n",
    "!python \"H:\\BaiduSyncdisk\\Homework\\DeepLearning\\Assignment1\\mmpretrain/tools/analysis_tools/analyze_logs.py\" plot_curve \"H:\\BaiduSyncdisk\\Homework\\DeepLearning\\Assignment1\\Ex1\\configs\\20250514_174651.json\" --keys accuracy/top1  --legend top1 --out baseline_acc.jpg --title \"Baseline Training Curve\"\n"
   ]
  }
 ],
 "metadata": {
  "kernelspec": {
   "display_name": "AAMAS",
   "language": "python",
   "name": "python3"
  },
  "language_info": {
   "codemirror_mode": {
    "name": "ipython",
    "version": 3
   },
   "file_extension": ".py",
   "mimetype": "text/x-python",
   "name": "python",
   "nbconvert_exporter": "python",
   "pygments_lexer": "ipython3",
   "version": "3.8.18"
  }
 },
 "nbformat": 4,
 "nbformat_minor": 5
}
